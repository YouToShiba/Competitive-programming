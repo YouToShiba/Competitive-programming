{
 "cells": [
  {
   "cell_type": "code",
   "execution_count": null,
   "id": "f079b152",
   "metadata": {},
   "outputs": [],
   "source": [
    "from collections import defaultdict\n",
    "\n",
    "class UnionFind():\n",
    "    def __init__(self, n):\n",
    "        \"\"\"\n",
    "        n:要素数\n",
    "        root：木の要素数\n",
    "        rank：木の深さ\n",
    "        \"\"\"\n",
    "        self.n = n\n",
    "        self.root = [-1]*(n+1)\n",
    "        self.rank = [0]*(n+1)\n",
    "        \n",
    "    def find(self, x):\n",
    "        # ノードxの根を見つける\n",
    "        if (self.root[x] < 0):\n",
    "            return x\n",
    "        else:\n",
    "            self.root[x] = self.find(self.root[x])\n",
    "            return self.root[x]\n",
    "    \n",
    "    def unite(self, x, y):\n",
    "        # 木の併合\n",
    "        x = self.find(x)\n",
    "        y = self.find(y)\n",
    "        \n",
    "        if (x == y):\n",
    "            return\n",
    "        elif (self.rank[x] > self.rank[y]):\n",
    "            "
   ]
  },
  {
   "cell_type": "code",
   "execution_count": null,
   "id": "05286ef2",
   "metadata": {},
   "outputs": [],
   "source": [
    "n = 5\n",
    "uf = UnionFind(n)\n",
    "uf.unite(1, 2)\n",
    "uf.unite(4, 2)\n",
    "uf.unite(4, 5)"
   ]
  }
 ],
 "metadata": {
  "kernelspec": {
   "display_name": "Python 3",
   "language": "python",
   "name": "python3"
  },
  "language_info": {
   "codemirror_mode": {
    "name": "ipython",
    "version": 3
   },
   "file_extension": ".py",
   "mimetype": "text/x-python",
   "name": "python",
   "nbconvert_exporter": "python",
   "pygments_lexer": "ipython3",
   "version": "3.7.11"
  }
 },
 "nbformat": 4,
 "nbformat_minor": 5
}
