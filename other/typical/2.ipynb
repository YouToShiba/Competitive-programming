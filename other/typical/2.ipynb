{
 "cells": [
  {
   "cell_type": "code",
   "execution_count": 40,
   "id": "f0975922-fd8b-400f-b7dd-3af9f2dfb26c",
   "metadata": {},
   "outputs": [
    {
     "name": "stdin",
     "output_type": "stream",
     "text": [
      " 4\n"
     ]
    },
    {
     "name": "stdout",
     "output_type": "stream",
     "text": [
      "(())\n",
      "()()\n"
     ]
    }
   ],
   "source": [
    "N = int(input())\n",
    "if N % 2 == 0:    # 3や5などそもそも成り立たないものを除去\n",
    "    brackets = []    # (なら0, )なら1を格納\n",
    "    formatTemp = '0' + str(N) + 'b'\n",
    "    for i in range(2 ** N):\n",
    "        temp = []\n",
    "        temp = format(i, formatTemp)    # iを2進数に変換\n",
    "        cnt = temp.count('0')\n",
    "        if cnt == N / 2:    # 0と1の数が一致なら(探索時間削減のため)\n",
    "            for j in temp:\n",
    "                brackets.append(j)    # bracketsに1文字ずつ格納\n",
    "\n",
    "    count = 0\n",
    "    ans = ''\n",
    "    check = 0\n",
    "    for i in brackets:\n",
    "        if i == '0':\n",
    "            check+=1\n",
    "            ans += '('\n",
    "        else:\n",
    "            check-=1\n",
    "            ans += ')'\n",
    "        count+=1\n",
    "        if check < 0:    # 構文エラー\n",
    "            check = -999\n",
    "        if count % N == 0:    # 1周期分終わったら\n",
    "            if check == 0:    # '('と')'の個数が正しいなら\n",
    "                print(ans)\n",
    "            ans = ''\n",
    "            check = 0\n"
   ]
  },
  {
   "cell_type": "code",
   "execution_count": 36,
   "id": "6a7b673d-db82-4f7d-a9fa-75ec294b6985",
   "metadata": {},
   "outputs": [
    {
     "name": "stdin",
     "output_type": "stream",
     "text": [
      " 2\n"
     ]
    },
    {
     "name": "stdout",
     "output_type": "stream",
     "text": [
      "()\n"
     ]
    }
   ],
   "source": [
    "#解答例\n",
    "\n",
    "# 入力の受け取り\n",
    "N = int(input())\n",
    "\n",
    "# カッコ列を格納する配列\n",
    "pare = []\n",
    "\n",
    "# ビット全探索\n",
    "for i in range(1 << N):\n",
    "\n",
    "# 1の時 \"(\" を、0の時 \")\" を文字列に追加していく\n",
    "  l = \"\"\n",
    "  for j in range(N):\n",
    "    if i >> j & 1:\n",
    "      l += \"(\"\n",
    "    else:\n",
    "      l += \")\"\n",
    "\n",
    "# 文字列の長さがNの時のみ、左から検索する。その時cntで\"(\"と\")\"の出現回数を計算する。cntが0より小さくならなかった＋cntが0(出現回数が等しかった)文字列のみをpareに格納する\n",
    "  if len(l) == N:\n",
    "    cnt = 0\n",
    "    flag = True\n",
    "    for k in range(N):\n",
    "      if l[k] == \"(\":\n",
    "        cnt += 1\n",
    "      else:\n",
    "        cnt -= 1\n",
    "      if cnt < 0:\n",
    "        flag = False\n",
    "    if flag and cnt == 0:\n",
    "      pare.append(l)\n",
    "\n",
    "# pareを辞書順にソート、順番に出力する\n",
    "pare.sort()\n",
    "\n",
    "for i in range(len(pare)):\n",
    "  print(pare[i])\n"
   ]
  },
  {
   "cell_type": "code",
   "execution_count": null,
   "id": "e87d5f65-98b2-4cdc-a72f-cfbbed5ee8f0",
   "metadata": {},
   "outputs": [],
   "source": []
  }
 ],
 "metadata": {
  "kernelspec": {
   "display_name": "Python 3",
   "language": "python",
   "name": "python3"
  },
  "language_info": {
   "codemirror_mode": {
    "name": "ipython",
    "version": 3
   },
   "file_extension": ".py",
   "mimetype": "text/x-python",
   "name": "python",
   "nbconvert_exporter": "python",
   "pygments_lexer": "ipython3",
   "version": "3.7.11"
  }
 },
 "nbformat": 4,
 "nbformat_minor": 5
}
