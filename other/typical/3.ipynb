{
 "cells": [
  {
   "cell_type": "code",
   "execution_count": 18,
   "id": "9fa4b766-c8c2-4c5d-bb0b-54e33fabfb94",
   "metadata": {},
   "outputs": [
    {
     "name": "stdin",
     "output_type": "stream",
     "text": [
      " 10\n",
      " 1 2\n",
      " 1 3\n",
      " 2 4\n",
      " 4 5\n",
      " 4 6\n",
      " 3 7\n",
      " 7 8\n",
      " 8 9\n",
      " 8 10\n"
     ]
    },
    {
     "name": "stdout",
     "output_type": "stream",
     "text": [
      "[[1, 2], [0, 3], [0, 6], [1, 4, 5], [3], [3], [2, 7], [6, 8, 9], [7], [7]]\n",
      "8\n"
     ]
    }
   ],
   "source": [
    "from collections import deque\n",
    "\n",
    "# 入力の受け取り\n",
    "N = int(input())\n",
    "# 宣言\n",
    "G = [[] for _ in range(N)]\n",
    "\n",
    "# 道路情報を格納\n",
    "for _ in range(N-1):\n",
    "    A, B = map(int, input().split())\n",
    "    G[A-1].append(B-1)\n",
    "    G[B-1].append(A-1)\n",
    "\n",
    "\n",
    "# 幅優先\n",
    "def bfs(n):\n",
    "    # スタック/キューに関する操作を行うための宣言\n",
    "    Q = deque()\n",
    "    # 頂点nからの距離．全要素に-1を代入\n",
    "    dist = [-1] * N\n",
    "    dist[n] = 0\n",
    "    # nをQの右端に挿入\n",
    "    Q.append(n)\n",
    "    arr = [0, 0]\n",
    "\n",
    "    while Q:\n",
    "        # deque の左側から要素をひとつ削除し、その要素を返す\n",
    "        i = Q.popleft()\n",
    "        # Gから1要素ずつjに取り出す\n",
    "        # 1段ずつ見ていく\n",
    "        for j in G[i]:\n",
    "            if dist[j] == -1:\n",
    "                # 1段上の要素におけるnからの距離dist[i]に1を足す(dist[1]から距離が1離れるため)\n",
    "                a = dist[i] + 1\n",
    "                # 距離をセット\n",
    "                dist[j] = a\n",
    "                # 探索した要素を代入\n",
    "                Q.append(j)\n",
    "                # 最大値なら格納\n",
    "                if a > arr[1]:\n",
    "                    arr = [j, a]\n",
    "    return arr\n",
    "\n",
    "# 0から最も距離のある点をp, 0からpまでの距離をdep\n",
    "p, dep = bfs(0)\n",
    "# pから一番距離のある点をp2, pからp2までの距離をdep2とする\n",
    "p2, dep2 = bfs(p)\n",
    "\n",
    "print(dep2 + 1)        \n",
    "\n"
   ]
  },
  {
   "cell_type": "code",
   "execution_count": null,
   "id": "deeadfe4-6806-4ec6-8d8e-f8e1d801dd56",
   "metadata": {},
   "outputs": [],
   "source": []
  }
 ],
 "metadata": {
  "kernelspec": {
   "display_name": "Python 3",
   "language": "python",
   "name": "python3"
  },
  "language_info": {
   "codemirror_mode": {
    "name": "ipython",
    "version": 3
   },
   "file_extension": ".py",
   "mimetype": "text/x-python",
   "name": "python",
   "nbconvert_exporter": "python",
   "pygments_lexer": "ipython3",
   "version": "3.7.11"
  }
 },
 "nbformat": 4,
 "nbformat_minor": 5
}
