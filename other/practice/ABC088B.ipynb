{
 "cells": [
  {
   "cell_type": "code",
   "execution_count": 4,
   "id": "cdb81e41-7174-4b02-997c-28b8a46fd2f0",
   "metadata": {},
   "outputs": [
    {
     "name": "stdin",
     "output_type": "stream",
     "text": [
      " 4\n",
      " 20 18 2 18\n"
     ]
    },
    {
     "name": "stdout",
     "output_type": "stream",
     "text": [
      "18\n"
     ]
    }
   ],
   "source": [
    "N = int(input())\n",
    "a = list(map(int, input().split()))\n",
    "a.sort(reverse=True)\n",
    "flag = 0\n",
    "Alice = 0\n",
    "Bob = 0\n",
    "for i in a:\n",
    "    if flag == 0:\n",
    "        Alice+=i\n",
    "        flag = 1\n",
    "    else:\n",
    "        Bob+=i\n",
    "        flag = 0\n",
    "print(Alice - Bob)    "
   ]
  },
  {
   "cell_type": "code",
   "execution_count": 8,
   "id": "3cb747b6-9385-455e-9bda-7b792b018591",
   "metadata": {},
   "outputs": [
    {
     "name": "stdin",
     "output_type": "stream",
     "text": [
      " 4\n",
      " 20 18 2 18\n"
     ]
    },
    {
     "name": "stdout",
     "output_type": "stream",
     "text": [
      "18\n"
     ]
    }
   ],
   "source": [
    "N = int(input())\n",
    "a = sorted(map(int, input().split()))[::-1]\n",
    "print(sum(a[::2]) - sum(a[1::2]))\n"
   ]
  },
  {
   "cell_type": "code",
   "execution_count": null,
   "id": "05da36b0-4405-499a-9dee-27ebf9d76121",
   "metadata": {},
   "outputs": [],
   "source": []
  }
 ],
 "metadata": {
  "kernelspec": {
   "display_name": "Python 3",
   "language": "python",
   "name": "python3"
  },
  "language_info": {
   "codemirror_mode": {
    "name": "ipython",
    "version": 3
   },
   "file_extension": ".py",
   "mimetype": "text/x-python",
   "name": "python",
   "nbconvert_exporter": "python",
   "pygments_lexer": "ipython3",
   "version": "3.7.11"
  }
 },
 "nbformat": 4,
 "nbformat_minor": 5
}
