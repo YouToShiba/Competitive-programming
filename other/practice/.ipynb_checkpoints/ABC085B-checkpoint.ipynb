{
 "cells": [
  {
   "cell_type": "code",
   "execution_count": 6,
   "id": "ec7e283f-c0ac-4de4-a690-419bb02bc0a8",
   "metadata": {},
   "outputs": [
    {
     "name": "stdin",
     "output_type": "stream",
     "text": [
      " 7\n",
      " 50\n",
      " 30\n",
      " 50\n",
      " 100\n",
      " 50\n",
      " 80\n",
      " 30\n"
     ]
    },
    {
     "name": "stdout",
     "output_type": "stream",
     "text": [
      "4\n"
     ]
    }
   ],
   "source": [
    "from collections import Counter\n",
    "N = int(input())\n",
    "d = [input () for i in range(N)]\n",
    "print(len(Counter(d)))"
   ]
  },
  {
   "cell_type": "code",
   "execution_count": 7,
   "id": "6114fa10-e15e-42c9-95dd-4a3dbf309200",
   "metadata": {},
   "outputs": [
    {
     "name": "stdin",
     "output_type": "stream",
     "text": [
      " 7\n",
      " 50\n",
      " 30\n",
      " 50\n",
      " 100\n",
      " 50\n",
      " 80\n",
      " 30\n"
     ]
    },
    {
     "name": "stdout",
     "output_type": "stream",
     "text": [
      "4\n"
     ]
    }
   ],
   "source": [
    "N = int(input())\n",
    "d = [input () for i in range(N)]\n",
    "print(len(set(d)))"
   ]
  },
  {
   "cell_type": "code",
   "execution_count": null,
   "id": "8063fb2f-d3a8-4863-9448-c9a1714c1022",
   "metadata": {},
   "outputs": [],
   "source": []
  }
 ],
 "metadata": {
  "kernelspec": {
   "display_name": "Python 3",
   "language": "python",
   "name": "python3"
  },
  "language_info": {
   "codemirror_mode": {
    "name": "ipython",
    "version": 3
   },
   "file_extension": ".py",
   "mimetype": "text/x-python",
   "name": "python",
   "nbconvert_exporter": "python",
   "pygments_lexer": "ipython3",
   "version": "3.7.11"
  }
 },
 "nbformat": 4,
 "nbformat_minor": 5
}
