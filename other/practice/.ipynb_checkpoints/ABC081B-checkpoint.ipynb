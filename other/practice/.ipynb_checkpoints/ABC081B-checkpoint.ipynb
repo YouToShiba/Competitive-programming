{
 "cells": [
  {
   "cell_type": "code",
   "execution_count": 22,
   "id": "3c9c1a6c-b951-4235-9eaf-cb89f1659b26",
   "metadata": {},
   "outputs": [
    {
     "name": "stdin",
     "output_type": "stream",
     "text": [
      " 3\n",
      " 4 8 8\n"
     ]
    },
    {
     "name": "stdout",
     "output_type": "stream",
     "text": [
      "[2.0, '8', '8']\n",
      "[2.0, 4.0, '8']\n",
      "[2.0, 4.0, 4.0]\n",
      "[1.0, 4.0, 4.0]\n",
      "[1.0, 2.0, 4.0]\n",
      "[1.0, 2.0, 2.0]\n",
      "[1.0, 1.0, 2.0]\n",
      "[1.0, 1.0, 1.0]\n",
      "2\n"
     ]
    }
   ],
   "source": [
    "n = input()\n",
    "a = input()\n",
    "a_list = a.split()\n",
    "ans = 0\n",
    "while 1:\n",
    "    count = 0\n",
    "    for i in range(int(n)):\n",
    "        if int(a_list[i]) % 2 == 0:\n",
    "            count = count + 1\n",
    "            a_list[i] = int(a_list[i]) / 2\n",
    "    if count == int(n):\n",
    "        ans = ans + 1\n",
    "    else:\n",
    "        break\n",
    "print(ans)"
   ]
  },
  {
   "cell_type": "code",
   "execution_count": null,
   "id": "937e047a-68d3-4a14-b8e7-e8164044e0aa",
   "metadata": {},
   "outputs": [],
   "source": [
    "N = int(input())\n",
    "A = list(map(int, input().split()))\n",
    "count = 0\n",
    "while all(a % 2 == 0 for a in A):\n",
    "    A = [a/2 for a in A]\n",
    "    count += 1\n",
    "print(count)"
   ]
  }
 ],
 "metadata": {
  "kernelspec": {
   "display_name": "Python 3",
   "language": "python",
   "name": "python3"
  },
  "language_info": {
   "codemirror_mode": {
    "name": "ipython",
    "version": 3
   },
   "file_extension": ".py",
   "mimetype": "text/x-python",
   "name": "python",
   "nbconvert_exporter": "python",
   "pygments_lexer": "ipython3",
   "version": "3.7.11"
  }
 },
 "nbformat": 4,
 "nbformat_minor": 5
}
