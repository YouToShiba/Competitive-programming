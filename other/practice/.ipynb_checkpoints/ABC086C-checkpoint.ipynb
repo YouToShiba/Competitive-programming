{
 "cells": [
  {
   "cell_type": "code",
   "execution_count": 1,
   "id": "3c89b587-2f32-4481-9319-4a70d2eab202",
   "metadata": {},
   "outputs": [
    {
     "name": "stdin",
     "output_type": "stream",
     "text": [
      " 2\n",
      " 3 1 2\n",
      " 6 1 1\n"
     ]
    },
    {
     "name": "stdout",
     "output_type": "stream",
     "text": [
      "Yes\n"
     ]
    }
   ],
   "source": [
    "# 解答\n",
    "N = int(input())\n",
    "count = 0\n",
    "pt, px, py = 0, 0, 0\n",
    "for i in range(N):\n",
    "    t, x, y = map(int, input().split())\n",
    "    if abs(x-px)+abs(y-py) <= t-pt and t % 2 == (x+y) % 2:    # abs:絶対値\n",
    "        count += 1\n",
    "    pt, px, py = t, x, y\n",
    "print(\"Yes\" if count == N else \"No\")"
   ]
  },
  {
   "cell_type": "code",
   "execution_count": null,
   "id": "da1eecaa-9161-499a-9d46-a867b7b89fb9",
   "metadata": {},
   "outputs": [],
   "source": []
  }
 ],
 "metadata": {
  "kernelspec": {
   "display_name": "Python 3",
   "language": "python",
   "name": "python3"
  },
  "language_info": {
   "codemirror_mode": {
    "name": "ipython",
    "version": 3
   },
   "file_extension": ".py",
   "mimetype": "text/x-python",
   "name": "python",
   "nbconvert_exporter": "python",
   "pygments_lexer": "ipython3",
   "version": "3.7.11"
  }
 },
 "nbformat": 4,
 "nbformat_minor": 5
}
