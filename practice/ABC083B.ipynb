{
 "cells": [
  {
   "cell_type": "code",
   "execution_count": 17,
   "id": "c13b73cd-6e77-4ee0-8a07-14a50ba09af9",
   "metadata": {},
   "outputs": [
    {
     "name": "stdin",
     "output_type": "stream",
     "text": [
      " 20 2 5\n"
     ]
    },
    {
     "name": "stdout",
     "output_type": "stream",
     "text": [
      "84\n"
     ]
    }
   ],
   "source": [
    "def ABSum(N, x):\n",
    "    x_sum = sum(list(map(int, str(x))))\n",
    "    if x_sum >= A and x_sum <= B:\n",
    "        return x\n",
    "    else:\n",
    "        return 0\n",
    "\n",
    "N, A, B = map(int, input().split())\n",
    "N_sum = sum(list(map(int, str(N))))\n",
    "count = 0\n",
    "for i in range(N + 1):\n",
    "    count+=ABSum(N, i)\n",
    "print(count)"
   ]
  },
  {
   "cell_type": "code",
   "execution_count": 18,
   "id": "4533768f-e0b1-400a-b26e-5d58a9fe6112",
   "metadata": {},
   "outputs": [
    {
     "name": "stdin",
     "output_type": "stream",
     "text": [
      " 20 2 5\n"
     ]
    },
    {
     "name": "stdout",
     "output_type": "stream",
     "text": [
      "84\n"
     ]
    }
   ],
   "source": [
    "N, A, B = map(int, input().split())\n",
    "print(sum(i for i in range(1, N+1) if A <= sum(map(int, str(i))) <= B))"
   ]
  },
  {
   "cell_type": "code",
   "execution_count": null,
   "id": "cd91d296-1f38-43db-bfd9-9c2b5c06127a",
   "metadata": {},
   "outputs": [],
   "source": []
  }
 ],
 "metadata": {
  "kernelspec": {
   "display_name": "Python 3",
   "language": "python",
   "name": "python3"
  },
  "language_info": {
   "codemirror_mode": {
    "name": "ipython",
    "version": 3
   },
   "file_extension": ".py",
   "mimetype": "text/x-python",
   "name": "python",
   "nbconvert_exporter": "python",
   "pygments_lexer": "ipython3",
   "version": "3.7.11"
  }
 },
 "nbformat": 4,
 "nbformat_minor": 5
}
