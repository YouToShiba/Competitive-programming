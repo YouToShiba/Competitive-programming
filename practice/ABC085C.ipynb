{
 "cells": [
  {
   "cell_type": "code",
   "execution_count": 6,
   "id": "c7abecba-3434-4acc-bba0-c16eaec6b71f",
   "metadata": {},
   "outputs": [
    {
     "name": "stdin",
     "output_type": "stream",
     "text": [
      " 2000 20000000\n"
     ]
    },
    {
     "name": "stdout",
     "output_type": "stream",
     "text": [
      "2000 0 0\n"
     ]
    }
   ],
   "source": [
    "N, Y = list(map(int, input().split()))\n",
    "flag = 0\n",
    "for i in range(N + 1):\n",
    "    for j in range(N - i + 1):\n",
    "        k = N - i - j\n",
    "        if 0 <= k <=2000 and 10000*i + 5000*j + 1000*k == Y:\n",
    "            print(i, j, k)\n",
    "            flag = 1\n",
    "            break\n",
    "    if flag == 1:\n",
    "        break\n",
    "if flag == 0:\n",
    "    print(\"-1 -1 -1\")"
   ]
  },
  {
   "cell_type": "code",
   "execution_count": null,
   "id": "eb49537f-9b25-4409-95f7-8d590508e4bc",
   "metadata": {},
   "outputs": [],
   "source": [
    "# 解答例がexit()を用いているため省略"
   ]
  }
 ],
 "metadata": {
  "kernelspec": {
   "display_name": "Python 3",
   "language": "python",
   "name": "python3"
  },
  "language_info": {
   "codemirror_mode": {
    "name": "ipython",
    "version": 3
   },
   "file_extension": ".py",
   "mimetype": "text/x-python",
   "name": "python",
   "nbconvert_exporter": "python",
   "pygments_lexer": "ipython3",
   "version": "3.7.11"
  }
 },
 "nbformat": 4,
 "nbformat_minor": 5
}
