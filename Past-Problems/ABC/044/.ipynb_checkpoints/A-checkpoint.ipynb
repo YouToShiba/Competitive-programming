{
 "cells": [
  {
   "cell_type": "code",
   "execution_count": 5,
   "id": "ec77bcbf-0a00-4c42-acf4-669ee14fe573",
   "metadata": {},
   "outputs": [
    {
     "name": "stdin",
     "output_type": "stream",
     "text": [
      " 2\n",
      " 3\n",
      " 10000\n",
      " 9000\n"
     ]
    },
    {
     "name": "stdout",
     "output_type": "stream",
     "text": [
      "18000\n"
     ]
    }
   ],
   "source": [
    "N = int(input())\n",
    "K = int(input())\n",
    "X = int(input())\n",
    "Y = int(input())\n",
    "\n",
    "if N > K:\n",
    "    print(N*Y+K*(X-Y))\n",
    "else:\n",
    "    print(N*N)\n"
   ]
  },
  {
   "cell_type": "code",
   "execution_count": null,
   "id": "b4a2f9af-ef67-49ae-88e3-7ef040497f93",
   "metadata": {},
   "outputs": [],
   "source": []
  }
 ],
 "metadata": {
  "kernelspec": {
   "display_name": "Python 3",
   "language": "python",
   "name": "python3"
  },
  "language_info": {
   "codemirror_mode": {
    "name": "ipython",
    "version": 3
   },
   "file_extension": ".py",
   "mimetype": "text/x-python",
   "name": "python",
   "nbconvert_exporter": "python",
   "pygments_lexer": "ipython3",
   "version": "3.7.11"
  }
 },
 "nbformat": 4,
 "nbformat_minor": 5
}
