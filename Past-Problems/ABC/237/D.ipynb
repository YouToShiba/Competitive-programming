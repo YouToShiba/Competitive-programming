{
 "cells": [
  {
   "cell_type": "code",
   "execution_count": 3,
   "id": "7b56cb21-55b8-40ee-a70b-9e8eb291cb0f",
   "metadata": {},
   "outputs": [
    {
     "name": "stdin",
     "output_type": "stream",
     "text": [
      " 3\n",
      " LLL\n"
     ]
    },
    {
     "name": "stdout",
     "output_type": "stream",
     "text": [
      "3 2 1 0\n"
     ]
    }
   ],
   "source": [
    "# これだとTLE，，，\n",
    "# insertを用いているせい(O(n)のため)->O(1)の両端キュー用いよう！\n",
    "\n",
    "N = int(input())\n",
    "S = list(input())\n",
    "pointer = 0\n",
    "count = 1\n",
    "ans = [0]\n",
    "\n",
    "for i in S:\n",
    "    if i == 'L':\n",
    "        ans.insert(pointer, count)\n",
    "    else:\n",
    "        pointer += 1\n",
    "        ans.insert(pointer, count)\n",
    "    count += 1\n",
    "print(*ans)"
   ]
  },
  {
   "cell_type": "code",
   "execution_count": 16,
   "id": "9df66a24-0208-4ef9-afd2-4c32767c4943",
   "metadata": {},
   "outputs": [
    {
     "name": "stdin",
     "output_type": "stream",
     "text": [
      " 5\n",
      " LRRLR\n"
     ]
    },
    {
     "name": "stdout",
     "output_type": "stream",
     "text": [
      "1 2 4 5 3 0\n"
     ]
    }
   ],
   "source": [
    "N = int(input())\n",
    "S = list(input())\n",
    "L = []\n",
    "R = []\n",
    "count = 0\n",
    "\n",
    "for i in S:\n",
    "    if i == 'R':\n",
    "        L.append(count)\n",
    "    else:\n",
    "        R.append(count)\n",
    "    count += 1\n",
    "\n",
    "print(*(L + [N] + R[::-1]))    \n",
    "\n"
   ]
  },
  {
   "cell_type": "code",
   "execution_count": null,
   "id": "6569f2e5-1443-4bc3-9a98-729a8db9c935",
   "metadata": {},
   "outputs": [],
   "source": []
  }
 ],
 "metadata": {
  "kernelspec": {
   "display_name": "Python 3",
   "language": "python",
   "name": "python3"
  },
  "language_info": {
   "codemirror_mode": {
    "name": "ipython",
    "version": 3
   },
   "file_extension": ".py",
   "mimetype": "text/x-python",
   "name": "python",
   "nbconvert_exporter": "python",
   "pygments_lexer": "ipython3",
   "version": "3.7.11"
  }
 },
 "nbformat": 4,
 "nbformat_minor": 5
}
