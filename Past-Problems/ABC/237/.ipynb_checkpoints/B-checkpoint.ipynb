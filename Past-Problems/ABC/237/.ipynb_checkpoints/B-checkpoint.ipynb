{
 "cells": [
  {
   "cell_type": "code",
   "execution_count": 11,
   "id": "2947ae06-a142-4820-95b8-a0d0efc0f184",
   "metadata": {},
   "outputs": [
    {
     "name": "stdin",
     "output_type": "stream",
     "text": [
      " 4 3\n",
      " 1 2 3\n",
      " 4 5 6\n",
      " 7 8 9\n",
      " 10 11 12\n"
     ]
    },
    {
     "name": "stdout",
     "output_type": "stream",
     "text": [
      "1 4 7 10\n",
      "2 5 8 11\n",
      "3 6 9 12\n"
     ]
    }
   ],
   "source": [
    "import numpy as np\n",
    "H, W = map(int, input().split())\n",
    "\n",
    "A = [list(map(int, input().split())) for _ in range(H)]\n",
    "A_numpy = np.array(A)\n",
    "A_T = A_numpy.T\n",
    "for i in A_T:\n",
    "    print(*i)"
   ]
  },
  {
   "cell_type": "code",
   "execution_count": null,
   "id": "043baa39-df89-4257-a0ff-97ad6baaf206",
   "metadata": {},
   "outputs": [],
   "source": []
  }
 ],
 "metadata": {
  "kernelspec": {
   "display_name": "Python 3",
   "language": "python",
   "name": "python3"
  },
  "language_info": {
   "codemirror_mode": {
    "name": "ipython",
    "version": 3
   },
   "file_extension": ".py",
   "mimetype": "text/x-python",
   "name": "python",
   "nbconvert_exporter": "python",
   "pygments_lexer": "ipython3",
   "version": "3.7.11"
  }
 },
 "nbformat": 4,
 "nbformat_minor": 5
}
