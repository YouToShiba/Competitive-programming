{
 "cells": [
  {
   "cell_type": "code",
   "execution_count": 106,
   "id": "1c01370c-481a-4d7a-9e78-fb67f7b1c3d5",
   "metadata": {},
   "outputs": [
    {
     "name": "stdin",
     "output_type": "stream",
     "text": [
      " att\n"
     ]
    },
    {
     "name": "stdout",
     "output_type": "stream",
     "text": [
      "['t', 't']\n",
      "Yes\n"
     ]
    }
   ],
   "source": [
    "# うまくいかん，，，\n",
    "\n",
    "S = list(input())\n",
    "left = 0\n",
    "right = 0\n",
    "count = 0\n",
    "for i in range(len(S)-1):\n",
    "    if S[left] == 'a':\n",
    "        left += 1\n",
    "    if S[len(S) - 1 - right] == 'a':\n",
    "        right += 1\n",
    "    if len(S) != 1:\n",
    "        if S[left] != 'a' and S[len(S) - 1 - right] !='a':\n",
    "            break\n",
    "\n",
    "del S[0:left]\n",
    "del S[len(S)-right: len(S)]\n",
    "print(S)\n",
    "if len(S) == 0:\n",
    "    print('Yes')\n",
    "\n",
    "for i in range(0, -(-len(S) // 2)):    # 切り上げ\n",
    "    if S[i] != S[len(S) - i - 1]:\n",
    "        print('No')\n",
    "        break\n",
    "    if i == -(-len(S) // 2) - 1:\n",
    "        print('Yes')\n"
   ]
  },
  {
   "cell_type": "code",
   "execution_count": null,
   "id": "42170904-28ca-4d8f-ab6b-1ce7fae2671b",
   "metadata": {},
   "outputs": [],
   "source": []
  }
 ],
 "metadata": {
  "kernelspec": {
   "display_name": "Python 3",
   "language": "python",
   "name": "python3"
  },
  "language_info": {
   "codemirror_mode": {
    "name": "ipython",
    "version": 3
   },
   "file_extension": ".py",
   "mimetype": "text/x-python",
   "name": "python",
   "nbconvert_exporter": "python",
   "pygments_lexer": "ipython3",
   "version": "3.7.11"
  }
 },
 "nbformat": 4,
 "nbformat_minor": 5
}
