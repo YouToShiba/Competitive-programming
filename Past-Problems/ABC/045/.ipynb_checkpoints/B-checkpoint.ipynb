{
 "cells": [
  {
   "cell_type": "code",
   "execution_count": 12,
   "id": "e7d68e69-86e5-4c40-ac8f-e3bb4d8d7cb3",
   "metadata": {},
   "outputs": [
    {
     "name": "stdin",
     "output_type": "stream",
     "text": [
      " abcb\n",
      " aacb\n",
      " bccc\n"
     ]
    },
    {
     "name": "stdout",
     "output_type": "stream",
     "text": [
      "a\n",
      "b\n",
      "a\n",
      "c\n",
      "b\n",
      "a\n",
      "b\n",
      "c\n",
      "c\n",
      "c\n",
      "c\n",
      "C\n"
     ]
    }
   ],
   "source": [
    "A = list(input())\n",
    "B = list(input())\n",
    "C = list(input())\n",
    "temp = A.pop(0)\n",
    "\n",
    "while 1:\n",
    "    if temp == 'a':\n",
    "        if len(A) == 0:\n",
    "            print('A')\n",
    "            break\n",
    "        temp = A.pop(0)\n",
    "    elif temp == 'b':\n",
    "        if len(B) == 0:\n",
    "            print('B')\n",
    "            break\n",
    "        temp = B.pop(0)\n",
    "    else:\n",
    "        if len(C) == 0:\n",
    "            print('C')\n",
    "            break\n",
    "        temp = C.pop(0)\n",
    "\n"
   ]
  },
  {
   "cell_type": "code",
   "execution_count": null,
   "id": "0e0c26d3-ccc7-4816-a38a-940a8ac7d52e",
   "metadata": {},
   "outputs": [],
   "source": []
  }
 ],
 "metadata": {
  "kernelspec": {
   "display_name": "Python 3",
   "language": "python",
   "name": "python3"
  },
  "language_info": {
   "codemirror_mode": {
    "name": "ipython",
    "version": 3
   },
   "file_extension": ".py",
   "mimetype": "text/x-python",
   "name": "python",
   "nbconvert_exporter": "python",
   "pygments_lexer": "ipython3",
   "version": "3.7.11"
  }
 },
 "nbformat": 4,
 "nbformat_minor": 5
}
