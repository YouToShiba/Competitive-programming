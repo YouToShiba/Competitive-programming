{
 "cells": [
  {
   "cell_type": "code",
   "execution_count": 24,
   "id": "1d373824-491c-4c8b-bf5d-f756bf57ca78",
   "metadata": {},
   "outputs": [
    {
     "name": "stdin",
     "output_type": "stream",
     "text": [
      " a\n"
     ]
    }
   ],
   "source": [
    "S = list(input())\n",
    "for i in range(len(S)-1):\n",
    "    if S[i] == S[i+1]:\n",
    "        # 同じ文字が隣接している場合\n",
    "        print(str(i+1) + ' ' + str(i+2))\n",
    "        break\n",
    "    elif i != len(S)-2 and S[i] == S[i+2]:\n",
    "        # abaのように同じ文字で挟んでいる場合\n",
    "        print(str(i+1) + ' ' + str(i+3))\n",
    "        break\n",
    "    if i == len(S)-2:\n",
    "        # アンバランスな文字列が存在しなかった場合\n",
    "        print(\"-1 -1\")"
   ]
  },
  {
   "cell_type": "code",
   "execution_count": null,
   "id": "5476be1c-91ed-4769-8c16-5b75329ff12a",
   "metadata": {},
   "outputs": [],
   "source": []
  }
 ],
 "metadata": {
  "kernelspec": {
   "display_name": "Python 3",
   "language": "python",
   "name": "python3"
  },
  "language_info": {
   "codemirror_mode": {
    "name": "ipython",
    "version": 3
   },
   "file_extension": ".py",
   "mimetype": "text/x-python",
   "name": "python",
   "nbconvert_exporter": "python",
   "pygments_lexer": "ipython3",
   "version": "3.7.11"
  }
 },
 "nbformat": 4,
 "nbformat_minor": 5
}
