{
 "cells": [
  {
   "cell_type": "code",
   "execution_count": 16,
   "id": "36abe5d9-0db4-466b-93e9-22a4625ebaa0",
   "metadata": {},
   "outputs": [
    {
     "name": "stdin",
     "output_type": "stream",
     "text": [
      " 0BB1\n"
     ]
    },
    {
     "name": "stdout",
     "output_type": "stream",
     "text": [
      "1\n"
     ]
    }
   ],
   "source": [
    "S = list(input())\n",
    "ans = []\n",
    "for i in S:\n",
    "    if i == 'B':\n",
    "        if len(ans) != 0:\n",
    "            ans.pop(-1)\n",
    "    else:\n",
    "        ans.append(i)    \n",
    "print(*ans, sep='')"
   ]
  },
  {
   "cell_type": "code",
   "execution_count": null,
   "id": "82162c40-7e6e-46c0-a1ef-e7f98c5ee42c",
   "metadata": {},
   "outputs": [],
   "source": []
  }
 ],
 "metadata": {
  "kernelspec": {
   "display_name": "Python 3",
   "language": "python",
   "name": "python3"
  },
  "language_info": {
   "codemirror_mode": {
    "name": "ipython",
    "version": 3
   },
   "file_extension": ".py",
   "mimetype": "text/x-python",
   "name": "python",
   "nbconvert_exporter": "python",
   "pygments_lexer": "ipython3",
   "version": "3.7.11"
  }
 },
 "nbformat": 4,
 "nbformat_minor": 5
}
