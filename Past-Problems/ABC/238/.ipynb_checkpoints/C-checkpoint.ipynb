{
 "cells": [
  {
   "cell_type": "code",
   "execution_count": 1,
   "id": "5d359072-6cc9-40e0-87ee-b6d9a620837f",
   "metadata": {},
   "outputs": [
    {
     "name": "stdin",
     "output_type": "stream",
     "text": [
      " 999999999999999999\n"
     ]
    },
    {
     "name": "stdout",
     "output_type": "stream",
     "text": [
      "762062362\n"
     ]
    }
   ],
   "source": [
    "import math\n",
    "\n",
    "N = int(input())\n",
    "l = len(str(N))\n",
    "\n",
    "def calc(k):\n",
    "    return (1+k) *k // 2 % 998244353\n",
    "\n",
    "temp = 1\n",
    "ans = 0\n",
    "for i in range(l-1):\n",
    "    ans += calc(pow(10,temp)-pow(10, temp-1))\n",
    "    temp += 1\n",
    "    ans = ans % 998244353\n",
    "    \n",
    "ans += calc(N - pow(10, temp-1)+1)\n",
    "ans = ans % 998244353\n",
    "print('%d' % ans)"
   ]
  },
  {
   "cell_type": "code",
   "execution_count": null,
   "id": "b3e847ff-43ed-4454-a586-cc47aacb548b",
   "metadata": {},
   "outputs": [],
   "source": []
  }
 ],
 "metadata": {
  "kernelspec": {
   "display_name": "Python 3",
   "language": "python",
   "name": "python3"
  },
  "language_info": {
   "codemirror_mode": {
    "name": "ipython",
    "version": 3
   },
   "file_extension": ".py",
   "mimetype": "text/x-python",
   "name": "python",
   "nbconvert_exporter": "python",
   "pygments_lexer": "ipython3",
   "version": "3.7.11"
  }
 },
 "nbformat": 4,
 "nbformat_minor": 5
}
