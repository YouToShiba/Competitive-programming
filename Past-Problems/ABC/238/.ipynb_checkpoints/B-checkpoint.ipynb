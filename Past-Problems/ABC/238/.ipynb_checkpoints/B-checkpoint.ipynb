{
 "cells": [
  {
   "cell_type": "code",
   "execution_count": 33,
   "id": "ddca04d6-5a3c-4d7d-a56a-9ad7bbea16ea",
   "metadata": {},
   "outputs": [
    {
     "name": "stdin",
     "output_type": "stream",
     "text": [
      " 10\n",
      " 215 137 320 339 341 41 44 18 241 149\n"
     ]
    },
    {
     "name": "stdout",
     "output_type": "stream",
     "text": [
      "170\n"
     ]
    }
   ],
   "source": [
    "N = int(input())\n",
    "A = list(map(int, input().split()))\n",
    "temp = [0]*(len(A)+1)\n",
    "ans = [0]*(len(A)+1)\n",
    "\n",
    "for i in range(len(A)):\n",
    "    for j in range(i+1):\n",
    "        temp[j] += A[i]\n",
    "        temp[j] = temp[j] % 360\n",
    "\n",
    "temp[len(A)] = 360\n",
    "temp.sort()\n",
    "\n",
    "ans[0] = temp[0]\n",
    "for i in range(1, len(A)+1):\n",
    "    ans[i] = temp[i]-temp[i-1]\n",
    "\n",
    "print(max(ans))"
   ]
  },
  {
   "cell_type": "markdown",
   "id": "7666b4ef-f49e-463c-a324-0ac3cc6fe5e3",
   "metadata": {},
   "source": []
  }
 ],
 "metadata": {
  "kernelspec": {
   "display_name": "Python 3",
   "language": "python",
   "name": "python3"
  },
  "language_info": {
   "codemirror_mode": {
    "name": "ipython",
    "version": 3
   },
   "file_extension": ".py",
   "mimetype": "text/x-python",
   "name": "python",
   "nbconvert_exporter": "python",
   "pygments_lexer": "ipython3",
   "version": "3.7.11"
  }
 },
 "nbformat": 4,
 "nbformat_minor": 5
}
