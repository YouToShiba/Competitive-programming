{
 "cells": [
  {
   "cell_type": "code",
   "execution_count": 1,
   "id": "9afdb31c-c8cb-45f0-ae90-ed8684a4f603",
   "metadata": {},
   "outputs": [
    {
     "name": "stdout",
     "output_type": "stream",
     "text": [
      "5\n",
      "takahashi\n",
      "takahashi\n",
      "aoki\n",
      "takahashi\n",
      "snuke\n",
      "takahashi\n"
     ]
    }
   ],
   "source": [
    "import collections\n",
    "N = int(input())\n",
    "\n",
    "S = [input () for i in range(N)]\n",
    "c = collections.Counter(S)\n",
    "print(c.most_common()[0][0])"
   ]
  },
  {
   "cell_type": "code",
   "execution_count": null,
   "id": "e3f17653-25ed-43dc-8621-f7caa8caf90e",
   "metadata": {},
   "outputs": [],
   "source": []
  }
 ],
 "metadata": {
  "kernelspec": {
   "display_name": "Python 3",
   "language": "python",
   "name": "python3"
  },
  "language_info": {
   "codemirror_mode": {
    "name": "ipython",
    "version": 3
   },
   "file_extension": ".py",
   "mimetype": "text/x-python",
   "name": "python",
   "nbconvert_exporter": "python",
   "pygments_lexer": "ipython3",
   "version": "3.7.11"
  }
 },
 "nbformat": 4,
 "nbformat_minor": 5
}
