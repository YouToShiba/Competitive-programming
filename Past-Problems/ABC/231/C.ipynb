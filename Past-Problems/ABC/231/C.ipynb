{
 "cells": [
  {
   "cell_type": "code",
   "execution_count": 22,
   "id": "c02e5af1-8706-49d5-89db-ecf1d388c3cf",
   "metadata": {},
   "outputs": [
    {
     "name": "stdout",
     "output_type": "stream",
     "text": [
      "5 5\n",
      "1 2 3 4 5\n",
      "6\n",
      "5\n",
      "4\n",
      "3\n",
      "2\n",
      "0\n",
      "1\n",
      "2\n",
      "3\n",
      "4\n"
     ]
    }
   ],
   "source": [
    "# これだと実行時間が遅い，，，\n",
    "N, Q = input().split()\n",
    "A = list(map(int, input().split()))\n",
    "x = [input() for i in range(int(Q))]\n",
    "result = []\n",
    "for i in x:\n",
    "    count = 0\n",
    "    for j in A:\n",
    "        if int(i) <= j:\n",
    "            count += 1\n",
    "    result.append(count)\n",
    "\n",
    "for i in result:\n",
    "    print(i)"
   ]
  },
  {
   "cell_type": "code",
   "execution_count": 26,
   "id": "eb59ded7",
   "metadata": {},
   "outputs": [
    {
     "name": "stdout",
     "output_type": "stream",
     "text": [
      "5 5\n",
      "1 2 3 4 5\n",
      "6\n",
      "0\n",
      "5\n",
      "1\n",
      "4\n",
      "2\n",
      "3\n",
      "3\n",
      "2\n",
      "4\n"
     ]
    }
   ],
   "source": [
    "import bisect\n",
    "\n",
    "N, Q = map(int, input().split())\n",
    "A = list(map(int, input().split()))\n",
    "A.sort()\n",
    "for i in range(Q):\n",
    "    x = int(input())\n",
    "    print(N - bisect.bisect_left(A, x))"
   ]
  },
  {
   "cell_type": "markdown",
   "id": "e635eaf8",
   "metadata": {},
   "source": []
  }
 ],
 "metadata": {
  "kernelspec": {
   "display_name": "Python 3",
   "language": "python",
   "name": "python3"
  },
  "language_info": {
   "codemirror_mode": {
    "name": "ipython",
    "version": 3
   },
   "file_extension": ".py",
   "mimetype": "text/x-python",
   "name": "python",
   "nbconvert_exporter": "python",
   "pygments_lexer": "ipython3",
   "version": "3.7.11"
  }
 },
 "nbformat": 4,
 "nbformat_minor": 5
}
