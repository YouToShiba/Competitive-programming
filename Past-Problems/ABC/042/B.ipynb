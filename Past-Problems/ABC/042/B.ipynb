{
 "cells": [
  {
   "cell_type": "code",
   "execution_count": 5,
   "id": "040ca6f5",
   "metadata": {},
   "outputs": [
    {
     "name": "stdout",
     "output_type": "stream",
     "text": [
      "2 2\n",
      "ss\n",
      "dd\n",
      "ddss\n"
     ]
    }
   ],
   "source": [
    "N, L = map(int, input().split())\n",
    "S = list(input() for i in range(N))\n",
    "S = sorted(S)\n",
    "print(''.join(S))\n",
    "# print(''.join(sorted([input() for _ in range(N)])))とも書ける"
   ]
  },
  {
   "cell_type": "code",
   "execution_count": null,
   "id": "ba363a47",
   "metadata": {},
   "outputs": [],
   "source": []
  }
 ],
 "metadata": {
  "kernelspec": {
   "display_name": "Python 3",
   "language": "python",
   "name": "python3"
  },
  "language_info": {
   "codemirror_mode": {
    "name": "ipython",
    "version": 3
   },
   "file_extension": ".py",
   "mimetype": "text/x-python",
   "name": "python",
   "nbconvert_exporter": "python",
   "pygments_lexer": "ipython3",
   "version": "3.7.11"
  }
 },
 "nbformat": 4,
 "nbformat_minor": 5
}
