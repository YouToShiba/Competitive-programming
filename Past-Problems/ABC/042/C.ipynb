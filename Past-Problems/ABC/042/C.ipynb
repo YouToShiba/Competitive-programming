{
 "cells": [
  {
   "cell_type": "code",
   "execution_count": 19,
   "id": "6b543f60",
   "metadata": {},
   "outputs": [
    {
     "name": "stdout",
     "output_type": "stream",
     "text": [
      "1000 1\n",
      "1\n",
      "2000\n"
     ]
    }
   ],
   "source": [
    "N, K = map(int, input().split())\n",
    "D = list(map(int, input().split()))\n",
    "\n",
    "def check_D(i):\n",
    "    for d in D:\n",
    "        if str(d) in i:\n",
    "            return False\n",
    "    return True\n",
    "\n",
    "for i in range(N, 10000):\n",
    "    if (check_D(str(i))):\n",
    "        print(i)\n",
    "        break"
   ]
  },
  {
   "cell_type": "code",
   "execution_count": null,
   "id": "03349f5e",
   "metadata": {},
   "outputs": [],
   "source": []
  }
 ],
 "metadata": {
  "kernelspec": {
   "display_name": "Python 3",
   "language": "python",
   "name": "python3"
  },
  "language_info": {
   "codemirror_mode": {
    "name": "ipython",
    "version": 3
   },
   "file_extension": ".py",
   "mimetype": "text/x-python",
   "name": "python",
   "nbconvert_exporter": "python",
   "pygments_lexer": "ipython3",
   "version": "3.7.11"
  }
 },
 "nbformat": 4,
 "nbformat_minor": 5
}
