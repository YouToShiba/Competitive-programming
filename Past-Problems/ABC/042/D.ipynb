{
 "cells": [
  {
   "cell_type": "code",
   "execution_count": 23,
   "id": "ef6169d3",
   "metadata": {
    "scrolled": true
   },
   "outputs": [
    {
     "name": "stdin",
     "output_type": "stream",
     "text": [
      " 10 7 3 4\n"
     ]
    },
    {
     "name": "stdout",
     "output_type": "stream",
     "text": [
      "3570\n"
     ]
    }
   ],
   "source": [
    "# これだと実行時間がかかる，，，\n",
    "\n",
    "from scipy.special import comb\n",
    "\n",
    "H,W,A,B = map(int, input().split())\n",
    "\n",
    "def first(h):\n",
    "    # h：H方向に移動するマス数\n",
    "    # h：0～(H-A-1)\n",
    "    # (0, 0)から(h, B-1)につくまでの場合の数\n",
    "    return comb(h+B-1, h, exact=True)\n",
    "\n",
    "def second(h):\n",
    "    # (h, B)から(H-1, W-1)につくまでの場合の数\n",
    "    return comb(H-h-1 + W-B-1, W-B-1, exact=True)\n",
    "ans = 0\n",
    "for h in range(H-A):\n",
    "    ans += first(h) * second(h)\n",
    "    # print(\"ans:\"+str(ans)+\", first:\"+str(first(h))+\", second:\"+str(second(h)))\n",
    "print(ans % 1000000007)"
   ]
  },
  {
   "cell_type": "code",
   "execution_count": 25,
   "id": "49b9481f",
   "metadata": {},
   "outputs": [
    {
     "name": "stdin",
     "output_type": "stream",
     "text": [
      " 100000 100000 44444 55555\n"
     ]
    },
    {
     "name": "stdout",
     "output_type": "stream",
     "text": [
      "738162020\n"
     ]
    }
   ],
   "source": [
    "# 解答例\n",
    "m = 10**9+7\n",
    "temp = 1\n",
    "H, W, A, B = map(int, input().split())\n",
    "for i in range(W-B-1):\n",
    "    temp = temp*(H+W-B-2-i)*pow(i+1, m-2, m)%m\n",
    "ans = temp\n",
    "for i in range(1, H-A):\n",
    "    temp = temp*(H-i)*(B-1+i)*pow(H+W-B-1-i, m-2, m)*pow(i, m-2, m)%m\n",
    "    ans = (ans+temp)%m\n",
    "print(ans)"
   ]
  },
  {
   "cell_type": "code",
   "execution_count": null,
   "id": "9a5ee0b4-102a-4d58-a0a1-8a3da3e425e1",
   "metadata": {},
   "outputs": [],
   "source": []
  }
 ],
 "metadata": {
  "kernelspec": {
   "display_name": "Python 3",
   "language": "python",
   "name": "python3"
  },
  "language_info": {
   "codemirror_mode": {
    "name": "ipython",
    "version": 3
   },
   "file_extension": ".py",
   "mimetype": "text/x-python",
   "name": "python",
   "nbconvert_exporter": "python",
   "pygments_lexer": "ipython3",
   "version": "3.7.11"
  }
 },
 "nbformat": 4,
 "nbformat_minor": 5
}
