{
 "cells": [
  {
   "cell_type": "code",
   "execution_count": 38,
   "id": "ad004ac2-3d06-4b87-83af-5d7c3bfc2dd8",
   "metadata": {},
   "outputs": [
    {
     "name": "stdin",
     "output_type": "stream",
     "text": [
      " 4 4\n",
      " 3 1 4 1\n",
      " 5 9 2 6\n",
      " 5 3 5 8\n",
      " 9 7 9 3\n"
     ]
    },
    {
     "name": "stdout",
     "output_type": "stream",
     "text": [
      "28 28 25 26\n",
      "39 33 40 34\n",
      "38 38 36 31\n",
      "41 41 39 43\n"
     ]
    }
   ],
   "source": [
    "h, w = map(int,input().split())\n",
    "\n",
    "A = []\n",
    "for i in range(h):\n",
    "    array = list(map(int, input().split()))\n",
    "    A.append(array)\n",
    "\n",
    "row = []\n",
    "col = []\n",
    "\n",
    "# 行の合計\n",
    "for i in range(h):\n",
    "    tmp = 0\n",
    "    for j in range(w):\n",
    "        tmp += A[i][j]\n",
    "    row.append(tmp)\n",
    "\n",
    "# 列の合計\n",
    "for j in range(w):\n",
    "    tmp = 0\n",
    "    for i in range(h):\n",
    "        tmp += A[i][j]\n",
    "    col.append(tmp)\n",
    "\n",
    "\n",
    "for i in range(h):\n",
    "    result = []\n",
    "    for j in range(w):\n",
    "        #result.append(row[i] + col[j] - A[i][j])\n",
    "        num = row[i] + col[j] - A[i][j]\n",
    "        result.append(str(num))\n",
    "    ans = \" \".join(result)\n",
    "    print(ans)"
   ]
  },
  {
   "cell_type": "code",
   "execution_count": null,
   "id": "b59209b6-156c-4b0a-9638-bc22102c47df",
   "metadata": {},
   "outputs": [],
   "source": []
  }
 ],
 "metadata": {
  "kernelspec": {
   "display_name": "Python 3",
   "language": "python",
   "name": "python3"
  },
  "language_info": {
   "codemirror_mode": {
    "name": "ipython",
    "version": 3
   },
   "file_extension": ".py",
   "mimetype": "text/x-python",
   "name": "python",
   "nbconvert_exporter": "python",
   "pygments_lexer": "ipython3",
   "version": "3.7.11"
  }
 },
 "nbformat": 4,
 "nbformat_minor": 5
}
