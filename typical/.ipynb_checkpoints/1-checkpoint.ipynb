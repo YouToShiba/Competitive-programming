{
 "cells": [
  {
   "cell_type": "code",
   "execution_count": 15,
   "id": "161ca9a7-40cc-49a4-b2a5-977be54c1bfc",
   "metadata": {},
   "outputs": [
    {
     "name": "stdin",
     "output_type": "stream",
     "text": [
      " 3 34\n",
      " 1\n",
      " 8 13 26\n"
     ]
    },
    {
     "name": "stdout",
     "output_type": "stream",
     "text": [
      "13\n"
     ]
    }
   ],
   "source": [
    "N, L = map(int, input().split())\n",
    "K = int(input())\n",
    "A = [0] + list(map(int, input().split()))\n",
    "A.append(L)\n",
    "\n",
    "def check(x):\n",
    "    cnt = 0\n",
    "    l = 0\n",
    "    for i in range(N + 1):\n",
    "        l += A[i+1] - A[i]\n",
    "        if l >= x:\n",
    "            cnt += 1\n",
    "            l = 0\n",
    "    return cnt >= K+1\n",
    "    \n",
    "ng = L\n",
    "ok = -1\n",
    "while ng - ok > 1:\n",
    "    mid = (ok + ng) // 2    # 商の切り捨て\n",
    "    if check(mid):\n",
    "        ok = mid\n",
    "    else:\n",
    "        ng = mid\n",
    "print(ok)\n"
   ]
  },
  {
   "cell_type": "code",
   "execution_count": null,
   "id": "e2f28d0d-c63a-4978-afc3-f4a8d16c5e19",
   "metadata": {},
   "outputs": [],
   "source": []
  }
 ],
 "metadata": {
  "kernelspec": {
   "display_name": "Python 3",
   "language": "python",
   "name": "python3"
  },
  "language_info": {
   "codemirror_mode": {
    "name": "ipython",
    "version": 3
   },
   "file_extension": ".py",
   "mimetype": "text/x-python",
   "name": "python",
   "nbconvert_exporter": "python",
   "pygments_lexer": "ipython3",
   "version": "3.7.11"
  }
 },
 "nbformat": 4,
 "nbformat_minor": 5
}
